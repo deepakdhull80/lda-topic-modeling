{
  "nbformat": 4,
  "nbformat_minor": 0,
  "metadata": {
    "colab": {
      "provenance": []
    },
    "kernelspec": {
      "name": "python3",
      "display_name": "Python 3"
    },
    "language_info": {
      "name": "python"
    }
  },
  "cells": [
    {
      "cell_type": "markdown",
      "source": [
        "# LDA - Latent Dirichlet Allocation\n",
        "\n",
        "<B>Paper</b> : https://coli-saar.github.io/cl19/materials/darling-lda.pdf"
      ],
      "metadata": {
        "id": "vW2ev-6Vm3Vg"
      }
    },
    {
      "cell_type": "code",
      "source": [
        "!pip install datasets"
      ],
      "metadata": {
        "colab": {
          "base_uri": "https://localhost:8080/"
        },
        "id": "cxOHK5pWncJz",
        "outputId": "19051caa-c035-443b-8dc1-630efe9b862d"
      },
      "execution_count": 18,
      "outputs": [
        {
          "output_type": "stream",
          "name": "stdout",
          "text": [
            "Looking in indexes: https://pypi.org/simple, https://us-python.pkg.dev/colab-wheels/public/simple/\n",
            "Requirement already satisfied: datasets in /usr/local/lib/python3.9/dist-packages (2.10.1)\n",
            "Requirement already satisfied: huggingface-hub<1.0.0,>=0.2.0 in /usr/local/lib/python3.9/dist-packages (from datasets) (0.13.3)\n",
            "Requirement already satisfied: pyarrow>=6.0.0 in /usr/local/lib/python3.9/dist-packages (from datasets) (9.0.0)\n",
            "Requirement already satisfied: tqdm>=4.62.1 in /usr/local/lib/python3.9/dist-packages (from datasets) (4.65.0)\n",
            "Requirement already satisfied: multiprocess in /usr/local/lib/python3.9/dist-packages (from datasets) (0.70.14)\n",
            "Requirement already satisfied: dill<0.3.7,>=0.3.0 in /usr/local/lib/python3.9/dist-packages (from datasets) (0.3.6)\n",
            "Requirement already satisfied: fsspec[http]>=2021.11.1 in /usr/local/lib/python3.9/dist-packages (from datasets) (2023.3.0)\n",
            "Requirement already satisfied: pandas in /usr/local/lib/python3.9/dist-packages (from datasets) (1.4.4)\n",
            "Requirement already satisfied: requests>=2.19.0 in /usr/local/lib/python3.9/dist-packages (from datasets) (2.27.1)\n",
            "Requirement already satisfied: aiohttp in /usr/local/lib/python3.9/dist-packages (from datasets) (3.8.4)\n",
            "Requirement already satisfied: pyyaml>=5.1 in /usr/local/lib/python3.9/dist-packages (from datasets) (6.0)\n",
            "Requirement already satisfied: numpy>=1.17 in /usr/local/lib/python3.9/dist-packages (from datasets) (1.22.4)\n",
            "Requirement already satisfied: responses<0.19 in /usr/local/lib/python3.9/dist-packages (from datasets) (0.18.0)\n",
            "Requirement already satisfied: xxhash in /usr/local/lib/python3.9/dist-packages (from datasets) (3.2.0)\n",
            "Requirement already satisfied: packaging in /usr/local/lib/python3.9/dist-packages (from datasets) (23.0)\n",
            "Requirement already satisfied: charset-normalizer<4.0,>=2.0 in /usr/local/lib/python3.9/dist-packages (from aiohttp->datasets) (2.0.12)\n",
            "Requirement already satisfied: yarl<2.0,>=1.0 in /usr/local/lib/python3.9/dist-packages (from aiohttp->datasets) (1.8.2)\n",
            "Requirement already satisfied: async-timeout<5.0,>=4.0.0a3 in /usr/local/lib/python3.9/dist-packages (from aiohttp->datasets) (4.0.2)\n",
            "Requirement already satisfied: aiosignal>=1.1.2 in /usr/local/lib/python3.9/dist-packages (from aiohttp->datasets) (1.3.1)\n",
            "Requirement already satisfied: frozenlist>=1.1.1 in /usr/local/lib/python3.9/dist-packages (from aiohttp->datasets) (1.3.3)\n",
            "Requirement already satisfied: multidict<7.0,>=4.5 in /usr/local/lib/python3.9/dist-packages (from aiohttp->datasets) (6.0.4)\n",
            "Requirement already satisfied: attrs>=17.3.0 in /usr/local/lib/python3.9/dist-packages (from aiohttp->datasets) (22.2.0)\n",
            "Requirement already satisfied: typing-extensions>=3.7.4.3 in /usr/local/lib/python3.9/dist-packages (from huggingface-hub<1.0.0,>=0.2.0->datasets) (4.5.0)\n",
            "Requirement already satisfied: filelock in /usr/local/lib/python3.9/dist-packages (from huggingface-hub<1.0.0,>=0.2.0->datasets) (3.10.1)\n",
            "Requirement already satisfied: urllib3<1.27,>=1.21.1 in /usr/local/lib/python3.9/dist-packages (from requests>=2.19.0->datasets) (1.26.15)\n",
            "Requirement already satisfied: idna<4,>=2.5 in /usr/local/lib/python3.9/dist-packages (from requests>=2.19.0->datasets) (3.4)\n",
            "Requirement already satisfied: certifi>=2017.4.17 in /usr/local/lib/python3.9/dist-packages (from requests>=2.19.0->datasets) (2022.12.7)\n",
            "Requirement already satisfied: pytz>=2020.1 in /usr/local/lib/python3.9/dist-packages (from pandas->datasets) (2022.7.1)\n",
            "Requirement already satisfied: python-dateutil>=2.8.1 in /usr/local/lib/python3.9/dist-packages (from pandas->datasets) (2.8.2)\n",
            "Requirement already satisfied: six>=1.5 in /usr/local/lib/python3.9/dist-packages (from python-dateutil>=2.8.1->pandas->datasets) (1.16.0)\n"
          ]
        }
      ]
    },
    {
      "cell_type": "code",
      "source": [
        "from datasets import load_dataset, Split\n",
        "import numpy as np\n",
        "from sklearn.feature_extraction import text\n",
        "from sklearn.feature_extraction.text import CountVectorizer\n",
        "import random\n",
        "\n",
        "np.random.seed(1)"
      ],
      "metadata": {
        "id": "-5Q_Rw0dn7xl"
      },
      "execution_count": 42,
      "outputs": []
    },
    {
      "cell_type": "code",
      "source": [
        "data = load_dataset('squad', split=Split.VALIDATION)"
      ],
      "metadata": {
        "colab": {
          "base_uri": "https://localhost:8080/"
        },
        "id": "XnpG_45YoFU9",
        "outputId": "b1e7f1bf-3733-494e-a9c7-6c5251bdb75b"
      },
      "execution_count": 20,
      "outputs": [
        {
          "output_type": "stream",
          "name": "stderr",
          "text": [
            "WARNING:datasets.builder:Found cached dataset squad (/root/.cache/huggingface/datasets/squad/plain_text/1.0.0/d6ec3ceb99ca480ce37cdd35555d6cb2511d223b9150cce08a837ef62ffea453)\n"
          ]
        }
      ]
    },
    {
      "cell_type": "code",
      "source": [
        "print(\"Total number of documents:\",len(data))"
      ],
      "metadata": {
        "colab": {
          "base_uri": "https://localhost:8080/"
        },
        "id": "CYzQSD3joKRh",
        "outputId": "2bc1dd1d-7fac-4a28-ccd1-f1f522965173"
      },
      "execution_count": 21,
      "outputs": [
        {
          "output_type": "stream",
          "name": "stdout",
          "text": [
            "Total number of documents: 10570\n"
          ]
        }
      ]
    },
    {
      "cell_type": "code",
      "source": [
        "N_DOC = 1000\n",
        "ALPHA = 0.2\n",
        "BETA = 0.2\n",
        "TOPIC = 40"
      ],
      "metadata": {
        "id": "mZd9u_elQe9A"
      },
      "execution_count": 84,
      "outputs": []
    },
    {
      "cell_type": "code",
      "source": [
        "sdata = data['context'][:N_DOC]"
      ],
      "metadata": {
        "id": "NvNdxqE2RHwf"
      },
      "execution_count": 85,
      "outputs": []
    },
    {
      "cell_type": "code",
      "source": [
        "stop_words = list(text.ENGLISH_STOP_WORDS)\n",
        "cv = CountVectorizer(stop_words=list(text.ENGLISH_STOP_WORDS))\n",
        "freq = cv.fit_transform(sdata)"
      ],
      "metadata": {
        "id": "6qawa3uMo5Tx"
      },
      "execution_count": 86,
      "outputs": []
    },
    {
      "cell_type": "code",
      "source": [
        "freq.toarray().shape"
      ],
      "metadata": {
        "colab": {
          "base_uri": "https://localhost:8080/"
        },
        "id": "xVJJEu4FPwvq",
        "outputId": "72e8af01-55fd-4008-f4f8-aa4499c9864e"
      },
      "execution_count": 87,
      "outputs": [
        {
          "output_type": "execute_result",
          "data": {
            "text/plain": [
              "(1000, 2605)"
            ]
          },
          "metadata": {},
          "execution_count": 87
        }
      ]
    },
    {
      "cell_type": "code",
      "source": [
        "frequency = cv.vocabulary_"
      ],
      "metadata": {
        "id": "hPZ3Ux44RR4j"
      },
      "execution_count": 88,
      "outputs": []
    },
    {
      "cell_type": "code",
      "source": [
        "k2i = { k:i for i,k in enumerate(frequency.keys())}\n",
        "i2k = { v:k for k,v in k2i.items()}"
      ],
      "metadata": {
        "id": "ojkkwDtGVNXm"
      },
      "execution_count": 89,
      "outputs": []
    },
    {
      "cell_type": "code",
      "source": [
        "VOCAB_SIZE = len(k2i)\n",
        "print(f\"Vocab size |V| = {VOCAB_SIZE}\")"
      ],
      "metadata": {
        "colab": {
          "base_uri": "https://localhost:8080/"
        },
        "id": "cj3AGRwEXZet",
        "outputId": "e393a558-4b83-4f82-b8bd-802293b1782f"
      },
      "execution_count": 90,
      "outputs": [
        {
          "output_type": "stream",
          "name": "stdout",
          "text": [
            "Vocab size |V| = 2605\n"
          ]
        }
      ]
    },
    {
      "cell_type": "code",
      "source": [
        "corpus = []\n",
        "for d in sdata:\n",
        "  words = []\n",
        "  for w in d.split():\n",
        "    if w in k2i:\n",
        "      words.append(k2i[w])\n",
        "  corpus.append(np.asarray(words))"
      ],
      "metadata": {
        "id": "yMtV3u_Pz5NT"
      },
      "execution_count": 91,
      "outputs": []
    },
    {
      "cell_type": "code",
      "source": [
        "corpus[0].shape"
      ],
      "metadata": {
        "colab": {
          "base_uri": "https://localhost:8080/"
        },
        "id": "mqZmf-rO2RC7",
        "outputId": "0c56dc85-bada-43d7-8409-72c7dc1e4e0a"
      },
      "execution_count": 92,
      "outputs": [
        {
          "output_type": "execute_result",
          "data": {
            "text/plain": [
              "(28,)"
            ]
          },
          "metadata": {},
          "execution_count": 92
        }
      ]
    },
    {
      "cell_type": "code",
      "source": [
        "N_ITER = 1000\n",
        "### Initialize Z and counts\n",
        "Z = []\n",
        "for i, doc in enumerate(corpus):\n",
        "  zd = np.random.randint(low=0,high=TOPIC,size=(len(doc)))\n",
        "  Z.append(zd)\n",
        "\n",
        "ndk = np.zeros((N_DOC,TOPIC))\n",
        "\n",
        "for i in range(N_DOC):\n",
        "  for k in range(TOPIC):\n",
        "    ndk[i,k] = np.sum(Z[i] == k)\n",
        "\n",
        "nkw = np.zeros((TOPIC, VOCAB_SIZE))\n",
        "\n",
        "for i,doc in enumerate(corpus):\n",
        "  for j, word in enumerate(doc):\n",
        "    topic = Z[i][j]\n",
        "    nkw[ topic, word] += 1\n",
        "\n",
        "nk = nkw.sum(axis=1)"
      ],
      "metadata": {
        "id": "AUJbOPuW3mpl"
      },
      "execution_count": 93,
      "outputs": []
    },
    {
      "cell_type": "code",
      "source": [
        "### Training part\n",
        "from tqdm import tqdm\n",
        "\n",
        "for _ in tqdm(range(N_ITER)):\n",
        "  for doc_idx,doc in enumerate(corpus):\n",
        "    for i in range(len(doc)):\n",
        "      word = doc[i]\n",
        "      topic = Z[doc_idx][i]\n",
        "\n",
        "      #remove z_i bcz condition on z_(-i)\n",
        "      ndk[doc_idx,topic] -= 1\n",
        "      nkw[topic, word] -= 1\n",
        "      nk[topic] -= 1\n",
        "      p_z = (ndk[doc_idx, :] + ALPHA) * (nkw[:, word] + BETA) / (nk + VOCAB_SIZE*BETA)\n",
        "      topic = random.choices(np.arange(TOPIC,dtype=np.int32),weights=p_z, k=1)[0]\n",
        "      Z[doc_idx][i] = topic\n",
        "      ndk[doc_idx][topic] += 1\n",
        "      nkw[topic, word] += 1\n",
        "      nk[topic] += 1\n"
      ],
      "metadata": {
        "colab": {
          "base_uri": "https://localhost:8080/"
        },
        "id": "OYhJYYG-5bXl",
        "outputId": "b7d45012-64c6-4965-e9aa-cfd7e5b44848"
      },
      "execution_count": 94,
      "outputs": [
        {
          "output_type": "stream",
          "name": "stderr",
          "text": [
            "100%|██████████| 1000/1000 [17:31<00:00,  1.05s/it]\n"
          ]
        }
      ]
    },
    {
      "cell_type": "code",
      "source": [
        "p = nkw / nk.reshape((TOPIC,1))\n",
        "top_k = 10\n",
        "for topic in range(TOPIC):\n",
        "  print(f\"TOPIC: {topic}\")\n",
        "  t = np.argsort(p[topic])[::-1][:top_k]\n",
        "  s = p[topic]\n",
        "  s = np.sort(s)[::-1][:top_k]\n",
        "  for word_idx, score in zip(t,s):\n",
        "    print(f\"({i2k[word_idx]}, {score:.3f})\",end=',')\n",
        "  print(\"\")\n",
        "  print(\"_\"*20)"
      ],
      "metadata": {
        "colab": {
          "base_uri": "https://localhost:8080/"
        },
        "id": "pdCrwSDd-8jG",
        "outputId": "700918ef-869d-40b3-ca12-15c3a96e2fc8"
      },
      "execution_count": 96,
      "outputs": [
        {
          "output_type": "stream",
          "name": "stdout",
          "text": [
            "TOPIC: 0\n",
            "(theatre, 0.063),(musical, 0.063),(events, 0.057),(music, 0.044),(best, 0.038),(building, 0.032),(housed, 0.032),(monumental, 0.032),(example, 0.032),(hosts, 0.032),\n",
            "____________________\n",
            "TOPIC: 1\n",
            "(paid, 0.147),(provided, 0.069),(digital, 0.058),(aired, 0.051),(free, 0.049),(broadcast, 0.040),(available, 0.031),(streaming, 0.031),(apps, 0.031),(smartphones, 0.031),\n",
            "____________________\n",
            "TOPIC: 2\n",
            "(carry, 0.064),(game, 0.031),(color, 0.022),(local, 0.022),(station, 0.021),(significant, 0.020),(stations, 0.020),(city, 0.016),(based, 0.015),(population, 0.014),\n",
            "____________________\n",
            "TOPIC: 3\n",
            "(halftime, 0.083),(headlined, 0.079),(broadcast, 0.047),(50, 0.046),(rock, 0.034),(group, 0.033),(possession, 0.024),(commercial, 0.024),(million, 0.024),(ball, 0.023),\n",
            "____________________\n",
            "TOPIC: 4\n",
            "(stayed, 0.057),(divisional, 0.032),(left, 0.030),(attempt, 0.030),(final, 0.029),(minutes, 0.029),(intercepting, 0.029),(conversion, 0.029),(seconds, 0.029),(problems, 0.029),\n",
            "____________________\n",
            "TOPIC: 5\n",
            "(team, 0.040),(quarterback, 0.025),(yards, 0.025),(season, 0.025),(head, 0.025),(passing, 0.024),(numerous, 0.024),(regular, 0.024),(leading, 0.017),(set, 0.017),\n",
            "____________________\n",
            "TOPIC: 6\n",
            "(way, 0.111),(beautiful, 0.111),(continued, 0.111),(eastern, 0.111),(game, 0.111),(practiced, 0.111),(supervisor, 0.111),(team, 0.111),(played, 0.111),(chevron, 0.000),\n",
            "____________________\n",
            "TOPIC: 7\n",
            "(yards, 0.113),(big, 0.037),(receptions, 0.036),(passes, 0.036),(year, 0.021),(carry, 0.020),(seven, 0.020),(points, 0.019),(receiver, 0.019),(10, 0.019),\n",
            "____________________\n",
            "TOPIC: 8\n",
            "(50, 0.037),(architecture, 0.035),(philanthropic, 0.032),(examples, 0.030),(buildings, 0.027),(house, 0.019),(interesting, 0.019),(investment, 0.018),(25, 0.018),(authorities, 0.018),\n",
            "____________________\n",
            "TOPIC: 9\n",
            "(draft, 0.041),(years, 0.036),(set, 0.023),(13, 0.022),(selection, 0.021),(days, 0.021),(48, 0.021),(quarterbacks, 0.021),(opposing, 0.021),(difference, 0.021),\n",
            "____________________\n",
            "TOPIC: 10\n",
            "(city, 0.041),(held, 0.038),(visible, 0.017),(cultural, 0.016),(activities, 0.015),(30, 0.015),(culinary, 0.015),(people, 0.015),(million, 0.015),(annual, 0.015),\n",
            "____________________\n",
            "TOPIC: 11\n",
            "(team, 0.092),(time, 0.064),(led, 0.062),(second, 0.062),(allowed, 0.062),(ranked, 0.060),(play, 0.034),(defense, 0.034),(yards, 0.034),(11, 0.032),\n",
            "____________________\n",
            "TOPIC: 12\n",
            "(city, 0.038),(etymology, 0.034),(native, 0.034),(escaped, 0.017),(country, 0.017),(attributes, 0.017),(growing, 0.017),(living, 0.017),(fell, 0.017),(encouraged, 0.017),\n",
            "____________________\n",
            "TOPIC: 13\n",
            "(history, 0.023),(city, 0.023),(examples, 0.020),(architectural, 0.020),(events, 0.015),(tradition, 0.014),(historic, 0.014),(collections, 0.014),(paintings, 0.014),(preserves, 0.014),\n",
            "____________________\n",
            "TOPIC: 14\n",
            "(teams, 0.070),(appearance, 0.067),(second, 0.062),(completed, 0.043),(pass, 0.040),(field, 0.027),(goal, 0.025),(drive, 0.024),(prior, 0.017),(season, 0.017),\n",
            "____________________\n",
            "TOPIC: 15\n",
            "(game, 0.155),(champion, 0.105),(numerals, 0.068),(played, 0.040),(50, 0.040),(50th, 0.038),(league, 0.038),(defeated, 0.035),(various, 0.035),(2015, 0.035),\n",
            "____________________\n",
            "TOPIC: 16\n",
            "(league, 0.135),(bids, 0.085),(eventually, 0.075),(narrowed, 0.075),(won, 0.050),(home, 0.025),(venue, 0.025),(located, 0.025),(walk, 0.025),(significantly, 0.025),\n",
            "____________________\n",
            "TOPIC: 17\n",
            "(broadcast, 0.062),(game, 0.060),(sideline, 0.049),(anchor, 0.029),(league, 0.027),(color, 0.025),(second, 0.023),(reporter, 0.021),(halftime, 0.021),(reached, 0.021),\n",
            "____________________\n",
            "TOPIC: 18\n",
            "(season, 0.088),(franchise, 0.072),(best, 0.055),(regular, 0.055),(team, 0.035),(start, 0.035),(league, 0.019),(win, 0.019),(wide, 0.018),(players, 0.018),\n",
            "____________________\n",
            "TOPIC: 19\n",
            "(record, 0.067),(quarterback, 0.057),(yards, 0.055),(age, 0.037),(set, 0.032),(win, 0.031),(teams, 0.024),(different, 0.023),(oldest, 0.023),(total, 0.022),\n",
            "____________________\n",
            "TOPIC: 20\n",
            "(defensive, 0.047),(team, 0.046),(led, 0.046),(forced, 0.032),(end, 0.031),(just, 0.031),(tackles, 0.031),(featured, 0.030),(career, 0.030),(sacks, 0.030),\n",
            "____________________\n",
            "TOPIC: 21\n",
            "(end, 0.068),(pass, 0.039),(recovered, 0.036),(team, 0.035),(knocked, 0.035),(ball, 0.032),(linebacker, 0.029),(touchdown, 0.020),(complete, 0.019),(ruled, 0.019),\n",
            "____________________\n",
            "TOPIC: 22\n",
            "(season, 0.091),(finished, 0.091),(regular, 0.088),(founded, 0.047),(chance, 0.047),(title, 0.046),(defend, 0.046),(defeating, 0.046),(defeated, 0.046),(advanced, 0.046),\n",
            "____________________\n",
            "TOPIC: 23\n",
            "(metres, 0.076),(special, 0.053),(point, 0.038),(lies, 0.038),(km, 0.038),(late, 0.035),(episode, 0.035),(city, 0.035),(eastern, 0.030),(located, 0.028),\n",
            "____________________\n",
            "TOPIC: 24\n",
            "(recognition, 0.031),(50th, 0.024),(featured, 0.024),(announced, 0.024),(born, 0.024),(honor, 0.023),(regarding, 0.023),(43, 0.023),(room, 0.023),(plans, 0.023),\n",
            "____________________\n",
            "TOPIC: 25\n",
            "(game, 0.061),(digital, 0.036),(television, 0.035),(final, 0.035),(year, 0.035),(advertisements, 0.034),(allowed, 0.034),(carry, 0.019),(high, 0.019),(time, 0.019),\n",
            "____________________\n",
            "TOPIC: 26\n",
            "(funding, 0.041),(hosted, 0.037),(announced, 0.029),(event, 0.029),(including, 0.021),(city, 0.020),(sponsors, 0.019),(million, 0.019),(team, 0.019),(won, 0.018),\n",
            "____________________\n",
            "TOPIC: 27\n",
            "(held, 0.082),(media, 0.073),(event, 0.067),(moved, 0.036),(opening, 0.036),(featured, 0.036),(typically, 0.035),(afternoon, 0.035),(evening, 0.035),(traditional, 0.035),\n",
            "____________________\n",
            "TOPIC: 28\n",
            "(cameras, 0.046),(lead, 0.031),(used, 0.031),(broadcast, 0.030),(tackled, 0.024),(lb, 0.018),(game, 0.017),(including, 0.016),(version, 0.015),(introduced, 0.015),\n",
            "____________________\n",
            "TOPIC: 29\n",
            "(yards, 0.079),(passes, 0.035),(10, 0.030),(caught, 0.030),(receptions, 0.029),(receiver, 0.026),(rushed, 0.026),(led, 0.020),(receivers, 0.020),(rushing, 0.020),\n",
            "____________________\n",
            "TOPIC: 30\n",
            "(city, 0.071),(use, 0.060),(seal, 0.054),(form, 0.033),(consisting, 0.027),(poet, 0.027),(1653, 0.027),(body, 0.027),(monster, 0.027),(crude, 0.027),\n",
            "____________________\n",
            "TOPIC: 31\n",
            "(ball, 0.040),(left, 0.040),(players, 0.038),(dove, 0.037),(took, 0.021),(touchdown, 0.021),(yards, 0.021),(pass, 0.021),(returned, 0.020),(end, 0.020),\n",
            "____________________\n",
            "TOPIC: 32\n",
            "(field, 0.064),(total, 0.052),(game, 0.027),(receptions, 0.025),(yards, 0.025),(forced, 0.024),(tackles, 0.018),(rusher, 0.017),(11, 0.016),(leading, 0.016),\n",
            "____________________\n",
            "TOPIC: 33\n",
            "(logo, 0.056),(practice, 0.038),(template, 0.037),(numerals, 0.037),(using, 0.036),(50, 0.021),(games, 0.020),(silver, 0.019),(reinstated, 0.019),(standardized, 0.019),\n",
            "____________________\n",
            "TOPIC: 34\n",
            "(winner, 0.169),(national, 0.085),(performed, 0.085),(provided, 0.085),(important, 0.077),(nominee, 0.077),(make, 0.070),(early, 0.070),(stated, 0.070),(planned, 0.063),\n",
            "____________________\n",
            "TOPIC: 35\n",
            "(forced, 0.085),(early, 0.047),(linebacker, 0.045),(lead, 0.044),(50, 0.044),(fumble, 0.044),(sacked, 0.042),(2½, 0.042),(times, 0.042),(seven, 0.040),\n",
            "____________________\n",
            "TOPIC: 36\n",
            "(moraine, 0.033),(plateau, 0.026),(terraces, 0.026),(pattern, 0.026),(plain, 0.026),(major, 0.022),(suffered, 0.021),(flooded, 0.020),(left, 0.018),(arm, 0.017),\n",
            "____________________\n",
            "TOPIC: 37\n",
            "(white, 0.070),(team, 0.032),(home, 0.030),(jerseys, 0.030),(wear, 0.030),(wore, 0.030),(matching, 0.020),(defeated, 0.020),(designated, 0.020),(park, 0.019),\n",
            "____________________\n",
            "TOPIC: 38\n",
            "(capital, 0.056),(established, 0.035),(largest, 0.034),(city, 0.023),(oldest, 0.022),(school, 0.020),(academic, 0.020),(official, 0.014),(new, 0.014),(highest, 0.014),\n",
            "____________________\n",
            "TOPIC: 39\n",
            "(took, 0.086),(place, 0.083),(owners, 0.083),(awarded, 0.083),(billion, 0.083),(spring, 0.083),(meetings, 0.083),(opened, 0.083),(voted, 0.083),(stadium, 0.083),\n",
            "____________________\n"
          ]
        }
      ]
    },
    {
      "cell_type": "code",
      "source": [],
      "metadata": {
        "id": "GGKT89wWFr_Q"
      },
      "execution_count": null,
      "outputs": []
    }
  ]
}